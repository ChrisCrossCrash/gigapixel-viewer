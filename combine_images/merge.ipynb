{
 "cells": [
  {
   "cell_type": "code",
   "execution_count": null,
   "metadata": {},
   "outputs": [],
   "source": [
    "import imageio\n",
    "from pathlib import Path\n",
    "import numpy as np\n",
    "\n",
    "# 512 * 72 * 512 * 54 = 36864 * 27648 = 1_019_215_872\n",
    "# 3072 * 12 * 3072 * 9 = 36864 * 27648\n",
    "\n",
    "ROWS = 12\n",
    "COLS = 9\n",
    "CELL_WIDTH = 3072\n",
    "CELL_HEIGHT = 3072\n",
    "\n",
    "# Download the FreeImage backend library if it doesn't exist.\n",
    "imageio.plugins.freeimage.download()\n",
    "\n",
    "px_width = COLS * CELL_WIDTH\n",
    "px_height = ROWS * CELL_HEIGHT\n",
    "\n",
    "img_big = np.ndarray(shape=(px_width, px_height, 3), dtype=np.uint8)\n",
    "\n",
    "# Print out all file names in the `frames_blender` directory.\n",
    "frames_blender = Path(\"C:\\\\Users\\\\Chris\\\\Desktop\\\\blender-gigapixel\\\\frames_png\")\n",
    "for i, fname in enumerate(frames_blender.glob(\"*.png\")):\n",
    "    col = i % ROWS\n",
    "    row = i // ROWS\n",
    "    img_cell = imageio.imread(fname)[:, :, :3]\n",
    "    # img_cell.shape is (1380, 1840, 3)\n",
    "\n",
    "    # Overlay img_cell onto big_img.\n",
    "    img_big[\n",
    "        row * CELL_HEIGHT : (row + 1) * CELL_HEIGHT,\n",
    "        col * CELL_WIDTH : (col + 1) * CELL_WIDTH,\n",
    "        :,\n",
    "    ] = img_cell\n",
    "    print(i, end=', ', flush=True)\n",
    "\n",
    "# Save img_big to a file.\n",
    "imageio.imwrite(\"C:\\\\Users\\\\Chris\\\\Desktop\\\\blender-gigapixel\\\\merged.png\", img_big)\n"
   ]
  }
 ],
 "metadata": {
  "interpreter": {
   "hash": "8866ae275ef7f2073076ec8ed26efa6b9856a051043929af779a94e25be15214"
  },
  "kernelspec": {
   "display_name": "Python 3.10.2 ('.venv': poetry)",
   "language": "python",
   "name": "python3"
  },
  "language_info": {
   "codemirror_mode": {
    "name": "ipython",
    "version": 3
   },
   "file_extension": ".py",
   "mimetype": "text/x-python",
   "name": "python",
   "nbconvert_exporter": "python",
   "pygments_lexer": "ipython3",
   "version": "3.10.2"
  },
  "orig_nbformat": 4
 },
 "nbformat": 4,
 "nbformat_minor": 2
}
